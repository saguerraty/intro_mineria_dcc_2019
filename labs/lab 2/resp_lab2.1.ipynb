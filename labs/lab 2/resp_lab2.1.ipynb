{
 "cells": [
  {
   "cell_type": "markdown",
   "metadata": {},
   "source": [
    " # Laboratorio 2.1: Clasificación\n",
    "\n",
    " Bárbara Poblete, Felipe Bravo, Aymé Arango, Juglar Díaz, Hernán Sarmiento, Juan Pablo Silva\n",
    "\n",
    " **Septiembre 2019**"
   ]
  },
  {
   "cell_type": "markdown",
   "metadata": {},
   "source": [
    " ## =================== INTEGRANTES =====================\n",
    "\n",
    " Escriba a continuación el nombre de los integrantes del presente laboratorio:\n",
    "\n",
    " 1. Bastián Inostroza\n",
    "\n",
    " 2. Sebastián Guerraty\n",
    "\n",
    " ## ====================================================="
   ]
  },
  {
   "cell_type": "markdown",
   "metadata": {},
   "source": [
    " # Instrucciones\n",
    "\n",
    "\n",
    " 1. El formato de entrega es un documento en **.ipynb**, generado por jupyter.\n",
    "\n",
    " 2. Asegúrese que están los nombres de los integrantes. Sólo uno de los integrantes debe subir este archivo a U-Cursos antes de finalizar la sesión.\n",
    "\n",
    " 3. Las respuestas a cada pregunta se deben escribir en los bloques que dicen **RESPUESTA A PREGUNTA X.X**."
   ]
  },
  {
   "cell_type": "markdown",
   "metadata": {},
   "source": [
    " # Del Laboratorio\n",
    "\n",
    " En este laboratorio, primero vamos a hacer un análisis de datos y luego vamos a entrenar un clasificador de 3 maneras:\n",
    "\n",
    " * Entrenar/testear con los mismos datos,\n",
    "\n",
    " * Dividiendo el dataset en una parte para entrenar y otra para testear, y finalmente,\n",
    "\n",
    " * Usando cross-validation. Veremos accuracy, precision y recall para luego analizar los resultados.\n"
   ]
  },
  {
   "cell_type": "markdown",
   "metadata": {},
   "source": [
    " # Parte 1: Evaluar un clasificador"
   ]
  },
  {
   "cell_type": "markdown",
   "metadata": {},
   "source": [
    " Usaremos el **Wine Dataset**, que viene en **scikit-learn**. Para ello, ejecutaremos la siguiente línea de código para cargar nuestro dataset."
   ]
  },
  {
   "cell_type": "code",
   "execution_count": 1,
   "metadata": {},
   "outputs": [],
   "source": [
    "from sklearn.datasets import load_wine\n",
    "\n"
   ]
  },
  {
   "cell_type": "markdown",
   "metadata": {},
   "source": [
    " ## PREGUNTA 1.1\n",
    "\n",
    " Indique lo siguiente:\n",
    " * Tamaño del dataset.\n",
    " * ¿Cuántas clases son?\n",
    " * ¿Qué nombre tienen las clases?\n",
    " * ¿Cuántas instancias hay de cada clase?\n",
    "\n",
    " Indique en cada caso cómo obtuvo la respuesta, es decir, adjunte código."
   ]
  },
  {
   "cell_type": "markdown",
   "metadata": {},
   "source": [
    " ### RESPUESTA A PREGUNTA 1.1\n",
    "## RESPUESTA A PREGUNTA 1.1"
   ]
  },
  {
   "cell_type": "markdown",
   "metadata": {},
   "source": [
    " ## Pregunta 1.2\n",
    "\n",
    " Explique qué hacen las siguientes líneas de código."
   ]
  },
  {
   "cell_type": "code",
   "execution_count": 2,
   "metadata": {},
   "outputs": [
    {
     "data": {
      "text/plain": [
       "<Figure size 1250x1250 with 30 Axes>"
      ]
     },
     "metadata": {},
     "output_type": "display_data"
    }
   ],
   "source": [
    "import matplotlib.pyplot as plt #carga pyplot desde matplotlib\n",
    "import seaborn as sns; sns.set(style=\"ticks\", color_codes=True) #carga seaborn\n",
    "import pandas as pd #carga pandas\n",
    "\n",
    "wine = load_wine() #carga los datos default de wine\n",
    "\n",
    "features = pd.DataFrame(data=wine['data'],columns=wine['feature_names']) #crea el dataframe de los features en base a los datos de wine\n",
    "data = features #asigna el df creado a la variable data\n",
    "data['target']=wine['target'] # asgina la variable target dentro de data como los valores de la variable target dentro del df wine\n",
    "data['class']=data['target'].map(lambda ind: wine['target_names'][ind]) # mapea el indicador de target_names de wine a la cariable class en el df data\n",
    "                               \n",
    "\n",
    "g = sns.pairplot(data.iloc[:, 0:5]) # Parametro kind=\"reg\" agrega una recta, hace el plot de distribucion para las variables 0 a la 5 en el df data\n",
    "plt.show() #muestra los plot creados con seaborn en la linea anterior\n"
   ]
  },
  {
   "cell_type": "markdown",
   "metadata": {},
   "source": [
    " ## RESPUESTA A PREGUNTA 1.2\n",
    " - Las primeras 3 lineas cargan las librerias pyplot de matplotlib, seaborn y pandas respectivamente.\n",
    " - la linea de 'wine' carga el dataframe de 'wine' en la variable 'wine'\n",
    " - 'features' crea un dataframe en base a los 'features' del df 'wine' usando los df de pandas\n",
    " - 'data' crea un duplicado de 'features' en la variable 'data'\n",
    " - crea la columna 'target' dentro de data como la columna target dentro de wine\n",
    " - mapea el indicador de target_names de wine a la cariable class en el df data\n",
    " - crea los plot de distrubución de las variables 1 a la 6 usando seaborn\n",
    " - muestra los plot creados con seaborn"
   ]
  },
  {
   "cell_type": "markdown",
   "metadata": {},
   "source": [
    " ## Pregunta 1.3\n",
    "\n",
    " ¿Cuáles son las observaciones principales que puede obtener de la visualización? Explique."
   ]
  },
  {
   "cell_type": "markdown",
   "metadata": {},
   "source": [
    " ### RESPUESTA A PREGUNTA 1.3\n",
    " - la variable alchool pareciese ser distribuida uniformemente salvo datos extremos en ambas colas\n",
    " - la variable de acido malico pareciese ser distribucion gama mientras las variables restantes tienen comportamiento que semeja una distribución normal\n",
    " - La disperción de los datos en las variabes de alcohol y ácido malico es mayor al de las variables de distribución normal\n",
    " - A simple vista no pareciese haber una fuerte correlación entre las variables ploteadas, donde se esperaría que la mayor sea una correlación positiva entre la acidez de la ceniza y la cantidad de ceniza en las variables 'acidity_of_ash' y 'ash' respectivamente."
   ]
  },
  {
   "cell_type": "markdown",
   "metadata": {},
   "source": [
    " # PARTE 2: Entrenar/testear con los mismos datos"
   ]
  },
  {
   "cell_type": "markdown",
   "metadata": {},
   "source": [
    " Usaremos el clasificador **Decision Tree**, utilizando distintas formas de evaluación y vamos a compararlas mediante diversas métricas."
   ]
  },
  {
   "cell_type": "markdown",
   "metadata": {},
   "source": [
    " ## PREGUNTA 2.1\n",
    "\n",
    " Usando el siguiente código, complete lo que falta para cargar los datos y entrenar el clasificador. Luego, muestre las métricas de accuracy, precision, recall y f1-score utilizando (X,y) como data y etiquetas respectivamente."
   ]
  },
  {
   "cell_type": "code",
   "execution_count": 3,
   "metadata": {},
   "outputs": [
    {
     "name": "stdout",
     "output_type": "stream",
     "text": [
      "              precision    recall  f1-score   support\n",
      "\n",
      "           0       1.00      1.00      1.00        59\n",
      "           1       1.00      1.00      1.00        71\n",
      "           2       1.00      1.00      1.00        48\n",
      "\n",
      "    accuracy                           1.00       178\n",
      "   macro avg       1.00      1.00      1.00       178\n",
      "weighted avg       1.00      1.00      1.00       178\n",
      "\n"
     ]
    }
   ],
   "source": [
    "## RESPUESTA PREGUNTA 2.1\n",
    "\n",
    "from sklearn.tree import DecisionTreeClassifier\n",
    "clf = DecisionTreeClassifier()\n",
    "\n",
    "from sklearn.metrics import accuracy_score\n",
    "from sklearn.metrics import classification_report\n",
    "X = wine.data      ## datos, caracteristicas o features de cada flor. \n",
    "y = wine.target    ## clase para cada instancia anterior.\n",
    "\n",
    "# Fit, predict y metricas\n",
    "\n",
    "clf.fit(X,y)\n",
    "y_pred = clf.predict(X)\n",
    "\n",
    "from sklearn.metrics import classification_report\n",
    "\n",
    "print(classification_report(y, y_pred))\n",
    "\n"
   ]
  },
  {
   "cell_type": "markdown",
   "metadata": {},
   "source": [
    " ## Pregunta 2.2\n",
    "\n",
    " De acuerdo a las métricas obtenidas ¿Es buena la predicción? ¿Recomendaria utilizar este clasificador en una aplicacion para clasificar vinos?"
   ]
  },
  {
   "cell_type": "markdown",
   "metadata": {},
   "source": [
    " ### RESPUESTA A PREGUNTA 2.2\n",
    " La predicción es perfecta puesto que el training set es igual al testing set y por ende permitimos que nuestro clasificador se aprenda todas las respuestas.\n",
    " Por estom mismo no recomendaría usar este clasificador, ya que no sabemos como se comporta para datos que no conoce por el *overfitting*."
   ]
  },
  {
   "cell_type": "markdown",
   "metadata": {},
   "source": [
    " # Parte 3: Otra variante: Dividiendo el dataset para entrenar y testear\n",
    "\n",
    " Ahora lo que haremos será dividir nuestro dataset en 70% entrenar (***training set***) y 30% para testear (***testing set***). Use la función ***train_test_split()*** y utilice las variables `X_train, X_test, y_train, y_test`.\n",
    "\n",
    " ## Pregunta 3.1\n",
    "\n",
    " Escriba el código necesario para entrenar el modelo e indique el Accuracy, Precision y Recall del clasificador.\n",
    " Entrene usando el ***training set*** y pruebe sobre el ***testing set***, en base a la división 70%-30%, respectivamente ¿En qué se diferencian los resultados con respecto a la pregunta 2.1? Cual es mejor? Cual usaria en una aplicacion para clasificar vinos?\n",
    "\n",
    " **NOTA: para dividir el dataset use el parámetro `stratify=y`.**\n"
   ]
  },
  {
   "cell_type": "code",
   "execution_count": 4,
   "metadata": {},
   "outputs": [
    {
     "name": "stdout",
     "output_type": "stream",
     "text": [
      "              precision    recall  f1-score   support\n",
      "\n",
      "           0       0.94      0.94      0.94        18\n",
      "           1       0.91      0.95      0.93        21\n",
      "           2       1.00      0.93      0.97        15\n",
      "\n",
      "    accuracy                           0.94        54\n",
      "   macro avg       0.95      0.94      0.95        54\n",
      "weighted avg       0.95      0.94      0.94        54\n",
      "\n"
     ]
    }
   ],
   "source": [
    "### RESPUESTA A PREGUNTA 3.1\n",
    "# Recuerde usar las variables X_train, X_test, y_train, y_test\n",
    "\n",
    "from sklearn.model_selection import train_test_split\n",
    "X_train, X_test, y_train, y_test = train_test_split(X, y, test_size=.30, random_state=42, stratify=y)\n",
    "\n",
    "clf = DecisionTreeClassifier()\n",
    "clf.fit(X_train, y_train)    ## Entrenamos con X_train y clases y_train\n",
    "\n",
    "y_pred = clf.predict(X_test)   ## Predecimos con nuevos datos (los de test X_test)\n",
    "\n",
    "from sklearn.metrics import classification_report\n",
    "\n",
    "print(classification_report(y_test, y_pred))\n"
   ]
  },
  {
   "cell_type": "markdown",
   "metadata": {},
   "source": [
    " ### RESPUESTA A PREGUNTA 3.1 Continuación\n",
    " En este caso los resultados no son perfectos, obteniendo una precisión tan baja como .89 en class_0; Pero ciertamente es mejor ya que sabemos que aprendió y no memorizó los resultados.\n",
    "Si tuviese que elegir entre los dos, claramente elegiría este para cualquier aplicación, excepto una que funcione sobre el dataset (osea, hacer trampa con el overfitting)"
   ]
  },
  {
   "cell_type": "markdown",
   "metadata": {},
   "source": [
    " ## Pregunta 3.2\n",
    "\n",
    " El siguiente código muestra una funcion que genera una matriz de confusión de los resultados de clasificación de la pregunta 3.1. Ejecute el bloque y luego haga una llamada a la funcion *plot_confusion_matrix* con los resultados de la sección 3.1 para visualizar el gráfico. Interprete qué significa cada uno de los valores distintos de 0 en la matriz."
   ]
  },
  {
   "cell_type": "code",
   "execution_count": 5,
   "metadata": {},
   "outputs": [],
   "source": [
    "from sklearn.metrics import confusion_matrix\n",
    "from sklearn.utils.multiclass import unique_labels\n",
    "import numpy as np\n",
    "\n",
    "class_names = wine.target_names\n",
    "def plot_confusion_matrix(y_true, y_pred, classes,\n",
    "                          normalize=False,\n",
    "                          title=None,\n",
    "                          cmap=plt.cm.Blues):\n",
    "    \"\"\"\n",
    "    This function prints and plots the confusion matrix.\n",
    "    \"\"\"\n",
    "    # Compute confusion matrix\n",
    "    cm = confusion_matrix(y_true, y_pred) \n",
    "    \n",
    "    # Only use the labels that appear in the data\n",
    "    classes = classes[unique_labels(y_true, y_pred)]\n",
    "   \n",
    "    fig, ax = plt.subplots()\n",
    "    im = ax.imshow(cm, interpolation='nearest', cmap=cmap)\n",
    "    ax.figure.colorbar(im, ax=ax)\n",
    "    # We want to show all ticks...\n",
    "    ax.set(xticks=np.arange(cm.shape[1]),\n",
    "           yticks=np.arange(cm.shape[0]),\n",
    "           # ... and label them with the respective list entries\n",
    "           xticklabels=classes, yticklabels=classes,\n",
    "           title=title,\n",
    "           ylabel='True label',\n",
    "           xlabel='Predicted label')\n",
    "\n",
    "    # Rotate the tick labels and set their alignment.\n",
    "    plt.setp(ax.get_xticklabels(), rotation=45, ha=\"right\",\n",
    "             rotation_mode=\"anchor\")\n",
    "\n",
    "    # Loop over data dimensions and create text annotations.\n",
    "    fmt = '.2f' if normalize else 'd'\n",
    "    thresh = cm.max() / 2.\n",
    "    for i in range(cm.shape[0]):\n",
    "        for j in range(cm.shape[1]):\n",
    "            ax.text(j, i, format(cm[i, j], fmt),\n",
    "                    ha=\"center\", va=\"center\",\n",
    "                    color=\"white\" if cm[i, j] > thresh else \"black\")\n",
    "    fig.tight_layout()\n",
    "    return ax\n"
   ]
  },
  {
   "cell_type": "markdown",
   "metadata": {},
   "source": [
    " ### RESPUESTA A PREGUNTA 3.2"
   ]
  },
  {
   "cell_type": "code",
   "execution_count": 6,
   "metadata": {},
   "outputs": [
    {
     "data": {
      "text/plain": [
       "<matplotlib.axes._subplots.AxesSubplot at 0x279e43f2048>"
      ]
     },
     "execution_count": 6,
     "metadata": {},
     "output_type": "execute_result"
    },
    {
     "data": {
      "image/png": "[encoded data removed]",
      "text/plain": [
       "<Figure size 432x288 with 2 Axes>"
      ]
     },
     "metadata": {
      "needs_background": "light"
     },
     "output_type": "display_data"
    }
   ],
   "source": [
    "plot_confusion_matrix(y_test,y_pred,wine.target_names) "
   ]
  },
  {
   "cell_type": "markdown",
   "metadata": {},
   "source": [
    " Los valores de la diagonal es la cantidad de casos correctamente identificados en el grupo de test para cada clase, mientras que el 1 en la primera fila y la segunda columna corresponde a una fila identifiacada como de la clase 'class_1' cuando su valor real es pertenecer a la clase 'class_0'."
   ]
  },
  {
   "cell_type": "markdown",
   "metadata": {},
   "source": [
    " # PARTE 4: Cross-validation\n",
    "\n",
    " Con cross-validation, el conjunto de entrenamiento se divide en $k$ conjuntos disjuntos; se entrena sobre los datos correspondientes a $k-1$ de éstos, y se evalúa sobre el conjunto restante. Esto se repite $k$ veces, evaluando siempre sobre un conjunto distinto. Teniendo en cuenta el parámetro $k$, a éste método se le llama $k$-fold cross-validation.\n",
    "\n",
    " El código que está a continuación realizará 10-fold cross-validation usando Decision Tree sobre los datos. La forma de estimar el rendimiento del clasificador es, entre otras formas, calculando el promedio de todos los k-folds.\n",
    "\n",
    " Además se muestra la predición sobre los datos para testear."
   ]
  },
  {
   "cell_type": "code",
   "execution_count": 7,
   "metadata": {},
   "outputs": [
    {
     "name": "stdout",
     "output_type": "stream",
     "text": [
      "Promedio Precision: 0.9054497354497355\n",
      "Promedio Recall: 0.8936111111111111\n",
      "Promedio F1-score: 0.8898509877921643\n",
      "Promedio Accucary: 0.894702442380461\n"
     ]
    }
   ],
   "source": [
    "## EJECUTAR ESTE BLOQUE\n",
    "\n",
    "from sklearn.model_selection import cross_validate\n",
    "import numpy as np\n",
    "\n",
    "scoring = ['precision_macro', 'recall_macro', 'accuracy', 'f1_macro']\n",
    "cv_results = cross_validate(clf, X, y, cv = 10, scoring = scoring, return_train_score= True)\n",
    "\n",
    "print('Promedio Precision:', np.mean(cv_results['test_precision_macro']))\n",
    "print('Promedio Recall:', np.mean(cv_results['test_recall_macro']))\n",
    "print('Promedio F1-score:', np.mean(cv_results['test_f1_macro']))\n",
    "print('Promedio Accucary:', np.mean(cv_results['test_accuracy']))\n",
    "\n",
    "# Si quisieramos mostrar el resultado de cada k-fold, deberiamos quitar \n",
    "# la funcion np.mean para calcular el promedio. Esto mostraria una lista con el resultado de cada fold\n"
   ]
  },
  {
   "cell_type": "markdown",
   "metadata": {},
   "source": [
    " ## Pregunta 4.1\n",
    "\n",
    " Comente el resultado obtenido y compare los valores de las métricas con respecto a lo obtenido en la pregunta 3.2 ¿Qué beneficios tiene emplear cross-validation?\n"
   ]
  },
  {
   "cell_type": "markdown",
   "metadata": {},
   "source": [
    " ### RESPUESTA PREGUNTA 4.1\n",
    " El resultado de la pregunt 3.1 es un mejor clasificador que el obtenido en la pregunta 4.1, ya que todos los indicadores de fitting derivados de la matriz de confusión entregan un valor más cercano a 1 que el testeo con la muestra aleatoria tradicional.\n",
    " La ventaja de utilizar cross validation es que permite entrenar el modelo prácticamente eliminando el sesgo inducido al entrenar el modelo."
   ]
  },
  {
   "cell_type": "markdown",
   "metadata": {},
   "source": [
    " # PARTE 5: FINAL"
   ]
  },
  {
   "cell_type": "markdown",
   "metadata": {},
   "source": [
    " ## Pregunta 5.1\n",
    "\n",
    " Respecto a los 3 tipos de experimentos, ¿qué tipo de evaluación considera que es el mejor y por qué? (Refiérase a tamaño del dataset, distribución de clases, entre otras cosas.)\n"
   ]
  },
  {
   "cell_type": "markdown",
   "metadata": {},
   "source": [
    " ### RESPUESTA A PREGUNTA 5.1\n",
    " Consideramos que el mejor en nuestros test es el Arbol de decisiones, ya que tanto si se usa o no *cross-validation* obtiene resultados mucho mejores"
   ]
  },
  {
   "cell_type": "markdown",
   "metadata": {},
   "source": [
    " ## Pregunta 5.2\n",
    "\n",
    " Entrene un clasificador empleando k-nearest neighbors (**KNN**) considerando 5 vecinos y cross validation de 10 folds.\n",
    "\n",
    " Compare el resultado de cross validation obtenido usando Decision Tree y KNN. ¿Hay algún efecto notorio en cuanto al desempeño de ambos clasificadores? ¿Se podría decir que uno es mejor que otro? Explique."
   ]
  },
  {
   "cell_type": "markdown",
   "metadata": {},
   "source": [
    " ### RESPUESTA A PREGUNTA 5.2"
   ]
  },
  {
   "cell_type": "code",
   "execution_count": 8,
   "metadata": {},
   "outputs": [
    {
     "name": "stdout",
     "output_type": "stream",
     "text": [
      "Para k-nearest neighbors\n",
      "              precision    recall  f1-score   support\n",
      "\n",
      "           0       0.89      0.89      0.89        18\n",
      "           1       0.78      0.67      0.72        21\n",
      "           2       0.50      0.60      0.55        15\n",
      "\n",
      "    accuracy                           0.72        54\n",
      "   macro avg       0.72      0.72      0.72        54\n",
      "weighted avg       0.74      0.72      0.73        54\n",
      "\n",
      "Promedio Precision: 0.6714502164502163\n",
      "Promedio Recall: 0.6602777777777777\n",
      "Promedio F1-score: 0.6453775853775853\n",
      "Promedio Accucary: 0.6757739938080495\n"
     ]
    },
    {
     "name": "stderr",
     "output_type": "stream",
     "text": [
      "C:\\Users\\basty\\Anaconda3\\lib\\site-packages\\sklearn\\metrics\\classification.py:1437: UndefinedMetricWarning: Precision is ill-defined and being set to 0.0 in labels with no predicted samples.\n",
      "  'precision', 'predicted', average, warn_for)\n",
      "C:\\Users\\basty\\Anaconda3\\lib\\site-packages\\sklearn\\metrics\\classification.py:1437: UndefinedMetricWarning: F-score is ill-defined and being set to 0.0 in labels with no predicted samples.\n",
      "  'precision', 'predicted', average, warn_for)\n"
     ]
    }
   ],
   "source": [
    "# Para cargar KNN\n",
    "from sklearn.neighbors import KNeighborsClassifier\n",
    "K = 5 # numero de vecinos\n",
    "knn = KNeighborsClassifier(n_neighbors=K)  \n",
    "\n",
    "## AGREGUE CODIGO PREGUNTA 5.2\n",
    "\n",
    "knn.fit(X_train, y_train)\n",
    "y_pred = knn.predict(X_test)\n",
    "\n",
    "print(\"Para k-nearest neighbors\")\n",
    "\n",
    "print(classification_report(y_test, y_pred))\n",
    "\n",
    "scoring = ['precision_macro', 'recall_macro', 'accuracy', 'f1_macro']\n",
    "cv_results = cross_validate(knn, X, y, cv = 10, scoring = scoring, return_train_score= True)\n",
    "\n",
    "print('Promedio Precision:', np.mean(cv_results['test_precision_macro']))\n",
    "print('Promedio Recall:', np.mean(cv_results['test_recall_macro']))\n",
    "print('Promedio F1-score:', np.mean(cv_results['test_f1_macro']))\n",
    "print('Promedio Accucary:', np.mean(cv_results['test_accuracy']))"
   ]
  },
  {
   "cell_type": "markdown",
   "metadata": {},
   "source": [
    " ### RESPUESTA A PREGUNTA 5.2 (EXPLICACION)\n",
    "Existe una diferencia en desempeño muy notoria entre el árbol de decisiones y KNN correspondiente a aprox un 20% de desempeño en general. Por esto podríamos aventurar que el árbol de decisiones es mejor que knn.\n"
   ]
  }
 ],
 "metadata": {
  "file_extension": ".py",
  "kernelspec": {
   "display_name": "Python 3",
   "language": "python",
   "name": "python3"
  },
  "language_info": {
   "codemirror_mode": {
    "name": "ipython",
    "version": 3
   },
   "file_extension": ".py",
   "mimetype": "text/x-python",
   "name": "python",
   "nbconvert_exporter": "python",
   "pygments_lexer": "ipython3",
   "version": "3.7.3"
  },
  "mimetype": "text/x-python",
  "name": "python",
  "npconvert_exporter": "python",
  "pygments_lexer": "ipython3",
  "version": 3
 },
 "nbformat": 4,
 "nbformat_minor": 2
}
