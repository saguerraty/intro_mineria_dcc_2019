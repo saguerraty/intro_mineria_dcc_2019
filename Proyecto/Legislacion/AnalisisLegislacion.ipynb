{
 "cells": [
  {
   "cell_type": "markdown",
   "metadata": {},
   "source": [
    "# Legislación\n",
    "\n",
    "## Contexto\n",
    "Los cerros que rodean la planicie central de la cuenca de Santiago imponen fuertes restricciones a la circulación de vientos y, por ende, a la renovación del aire al interior de la cuenca. Por ello, en épocas de estabilidad atmosférica los contaminantes quedan atrapados dentro de la cuenca que alberga a la ciudad de Santiago.\n",
    "\n",
    "Por esta situación en particular santiago se ha visto varias veces enfrentado con una contaminación muy alta, llegando a ser declarada zona saturada por Ozono, Material Particulado, Monoxido de Carbono y Dioxido de Nitrógeno en 1996, el año anterior se ordena la creación del _Plan de Prevención y Descontaminación Atmosférica_ de la Región Metropolitana, que desde 1998 norma con el objetivo de:\n",
    "\n",
    "El PPDA tiene por objetivo cumplir con las normas de calidad de aire cuyo propósito principal es la protección de la salud de la población. Ésta se encuentra habitualmente expuesta a concentraciones de contaminantes que afectan su bienestar físico y su calidad de vida en general. -- DS N°16 de 1998, Minsegpres, CONAMA\n",
    "\n",
    "Con esto se realizan desde el mismo año mediciones diarias de distintos agentes contaminantes para evaluar tanto la situación actual del aire en santiago como para medir el rendimiento del PPDA.\n",
    "\n",
    "| Fecha        | Tipo    | Nombre                                 |\n",
    "|--------------|---------|----------------------------------------|\n",
    "| 26-oct-95    | Decreto | Procedimiento PPDA                     |\n",
    "| 01-ago-96    | Decreto | Zona saturada por O3 MP10 MP2,5 CO NO2 |\n",
    "| 06-jun-98    | Decreto | Establece PPDA                         |\n",
    "| 29-ene-04    | Decreto | Actualiza PPDA                         |\n",
    "| 16-abr-10    | Decreto | Actualiza PPDA                         |\n",
    "| 15-nov-14    | Decreto | Zona Saturada MP2,5                    |\n",
    "| 24-nov-17    | Decreto | Establece PPDA                         |\n",
    "\n",
    "\n",
    "Aquí intentaremos responder si estas legislaciones y regulaciones tienen algún efecto real sobre la disminución de la contaminación en la cuenca de Santiago."
   ]
  },
  {
   "cell_type": "code",
   "execution_count": 90,
   "metadata": {},
   "outputs": [],
   "source": [
    "# Imports used on the script\n",
    "\n",
    "import matplotlib\n",
    "matplotlib.use('tkagg')\n",
    "\n",
    "import matplotlib.pyplot as plt\n",
    "import numpy as np\n",
    "from sklearn import linear_model\n",
    "from sklearn.preprocessing import PolynomialFeatures\n",
    "from sklearn.pipeline import Pipeline\n",
    "from sklearn.impute import SimpleImputer\n",
    "import pandas as pd"
   ]
  },
  {
   "cell_type": "code",
   "execution_count": 91,
   "metadata": {},
   "outputs": [
    {
     "data": {
      "text/plain": [
       "array([ 3., -2.,  1., -1.])"
      ]
     },
     "execution_count": 91,
     "metadata": {},
     "output_type": "execute_result"
    }
   ],
   "source": [
    "model = Pipeline([('poly', PolynomialFeatures(degree=3)),\n",
    "                  ('linear', LinearRegression(fit_intercept=False))])\n",
    "# fit to an order-3 polynomial data\n",
    "x = np.arange(5)\n",
    "y = 3 - 2 * x + x ** 2 - x ** 3\n",
    "model = model.fit(x[:, np.newaxis], y)\n",
    "model.named_steps['linear'].coef_"
   ]
  },
  {
   "cell_type": "code",
   "execution_count": 92,
   "metadata": {},
   "outputs": [
    {
     "data": {
      "text/html": [
       "<div>\n",
       "<style scoped>\n",
       "    .dataframe tbody tr th:only-of-type {\n",
       "        vertical-align: middle;\n",
       "    }\n",
       "\n",
       "    .dataframe tbody tr th {\n",
       "        vertical-align: top;\n",
       "    }\n",
       "\n",
       "    .dataframe thead th {\n",
       "        text-align: right;\n",
       "    }\n",
       "</style>\n",
       "<table border=\"1\" class=\"dataframe\">\n",
       "  <thead>\n",
       "    <tr style=\"text-align: right;\">\n",
       "      <th></th>\n",
       "      <th>Fecha</th>\n",
       "      <th>anno</th>\n",
       "      <th>mes</th>\n",
       "      <th>dia</th>\n",
       "      <th>O3</th>\n",
       "      <th>MP10</th>\n",
       "      <th>CO</th>\n",
       "      <th>SO2</th>\n",
       "      <th>MP25</th>\n",
       "      <th>NO2</th>\n",
       "      <th>Tmedia</th>\n",
       "      <th>Tmax</th>\n",
       "      <th>Precipitaciones</th>\n",
       "    </tr>\n",
       "  </thead>\n",
       "  <tbody>\n",
       "    <tr>\n",
       "      <td>0</td>\n",
       "      <td>19970402</td>\n",
       "      <td>1997</td>\n",
       "      <td>4</td>\n",
       "      <td>2</td>\n",
       "      <td>18.8750</td>\n",
       "      <td>111.565</td>\n",
       "      <td>NaN</td>\n",
       "      <td>NaN</td>\n",
       "      <td>NaN</td>\n",
       "      <td>NaN</td>\n",
       "      <td>17.6</td>\n",
       "      <td>27.5</td>\n",
       "      <td>0.0</td>\n",
       "    </tr>\n",
       "    <tr>\n",
       "      <td>1</td>\n",
       "      <td>19970403</td>\n",
       "      <td>1997</td>\n",
       "      <td>4</td>\n",
       "      <td>3</td>\n",
       "      <td>14.2083</td>\n",
       "      <td>141.333</td>\n",
       "      <td>NaN</td>\n",
       "      <td>NaN</td>\n",
       "      <td>NaN</td>\n",
       "      <td>NaN</td>\n",
       "      <td>16.0</td>\n",
       "      <td>27.2</td>\n",
       "      <td>0.0</td>\n",
       "    </tr>\n",
       "    <tr>\n",
       "      <td>2</td>\n",
       "      <td>19970404</td>\n",
       "      <td>1997</td>\n",
       "      <td>4</td>\n",
       "      <td>4</td>\n",
       "      <td>30.4545</td>\n",
       "      <td>156.950</td>\n",
       "      <td>NaN</td>\n",
       "      <td>NaN</td>\n",
       "      <td>NaN</td>\n",
       "      <td>NaN</td>\n",
       "      <td>17.6</td>\n",
       "      <td>31.1</td>\n",
       "      <td>0.0</td>\n",
       "    </tr>\n",
       "    <tr>\n",
       "      <td>3</td>\n",
       "      <td>19970405</td>\n",
       "      <td>1997</td>\n",
       "      <td>4</td>\n",
       "      <td>5</td>\n",
       "      <td>NaN</td>\n",
       "      <td>0.000</td>\n",
       "      <td>NaN</td>\n",
       "      <td>NaN</td>\n",
       "      <td>NaN</td>\n",
       "      <td>NaN</td>\n",
       "      <td>16.9</td>\n",
       "      <td>29.6</td>\n",
       "      <td>0.0</td>\n",
       "    </tr>\n",
       "    <tr>\n",
       "      <td>4</td>\n",
       "      <td>19970406</td>\n",
       "      <td>1997</td>\n",
       "      <td>4</td>\n",
       "      <td>6</td>\n",
       "      <td>NaN</td>\n",
       "      <td>0.000</td>\n",
       "      <td>NaN</td>\n",
       "      <td>NaN</td>\n",
       "      <td>NaN</td>\n",
       "      <td>NaN</td>\n",
       "      <td>15.2</td>\n",
       "      <td>25.6</td>\n",
       "      <td>0.0</td>\n",
       "    </tr>\n",
       "  </tbody>\n",
       "</table>\n",
       "</div>"
      ],
      "text/plain": [
       "      Fecha  anno  mes  dia       O3     MP10  CO  SO2  MP25  NO2  Tmedia  \\\n",
       "0  19970402  1997    4    2  18.8750  111.565 NaN  NaN   NaN  NaN    17.6   \n",
       "1  19970403  1997    4    3  14.2083  141.333 NaN  NaN   NaN  NaN    16.0   \n",
       "2  19970404  1997    4    4  30.4545  156.950 NaN  NaN   NaN  NaN    17.6   \n",
       "3  19970405  1997    4    5      NaN    0.000 NaN  NaN   NaN  NaN    16.9   \n",
       "4  19970406  1997    4    6      NaN    0.000 NaN  NaN   NaN  NaN    15.2   \n",
       "\n",
       "   Tmax  Precipitaciones  \n",
       "0  27.5              0.0  \n",
       "1  27.2              0.0  \n",
       "2  31.1              0.0  \n",
       "3  29.6              0.0  \n",
       "4  25.6              0.0  "
      ]
     },
     "execution_count": 92,
     "metadata": {},
     "output_type": "execute_result"
    }
   ],
   "source": [
    "# Import climate data\n",
    "df = pd.read_csv(\"C:/Users/basty/Documents/intro_mineria_dcc_2019/Proyecto/ClimaYEmisionesData/DatosHito1CleanWithDates.csv\")\n",
    "\n",
    "# Example of how the table looks\n",
    "df.head()"
   ]
  },
  {
   "cell_type": "code",
   "execution_count": 93,
   "metadata": {
    "scrolled": true
   },
   "outputs": [],
   "source": [
    "# We split the database on periods according to different versions of PPDA program\n",
    "\n",
    "prePPDA = df[(df['Fecha']<19980606)]\n",
    "\n",
    "primerPPDA = df[(df['Fecha']>=19980606) & (df['Fecha']<=20040129)]\n",
    "\n",
    "segundoPPDA = df[(df['Fecha']>=20040129) & (df['Fecha']<=20100416)]\n",
    "\n",
    "# This one is a complete new DS that declares the RM a MP2.5 Saturation Zone\n",
    "tercerPPDA = df[(df['Fecha']>=20100416) & (df['Fecha']<=20171124)]\n",
    "\n",
    "cuartoPPDA = df[(df['Fecha']>=20171124)]"
   ]
  },
  {
   "cell_type": "code",
   "execution_count": 98,
   "metadata": {},
   "outputs": [
    {
     "data": {
      "text/plain": [
       "array([[-5.66605813e-17, -1.07557030e-22,  9.98346203e-24, ...,\n",
       "         1.16725096e-27, -3.23876384e-27, -2.85158129e-26],\n",
       "       [-8.49733872e-21, -1.61414426e-26,  1.50011590e-27, ...,\n",
       "         1.74977241e-31, -4.85584308e-31, -4.27435306e-30],\n",
       "       [ 2.91361854e-19,  5.53746792e-25, -5.21332743e-26, ...,\n",
       "        -6.00878633e-30,  1.66282403e-29,  1.46430793e-28],\n",
       "       ...,\n",
       "       [-2.90546213e-19, -5.38560876e-25,  6.24339122e-26, ...,\n",
       "         5.84269341e-30, -1.72036936e-29, -1.48995783e-28],\n",
       "       [ 2.87338861e-19,  6.37708802e-25, -8.02008956e-28, ...,\n",
       "        -5.31796260e-30,  1.52177949e-29,  1.34382144e-28],\n",
       "       [ 2.04935996e-18,  3.99506460e-24, -3.33508156e-25, ...,\n",
       "        -4.17389407e-29,  1.13763695e-28,  1.00446160e-27]])"
      ]
     },
     "execution_count": 98,
     "metadata": {},
     "output_type": "execute_result"
    }
   ],
   "source": [
    "model = Pipeline([('poly', PolynomialFeatures(degree=4)),\n",
    "                  ('linear', LinearRegression(fit_intercept=False))])\n",
    "\n",
    "# Create our imputer to replace missing values with the mean e.g.\n",
    "imp = SimpleImputer(missing_values=np.nan, strategy='mean')\n",
    "imp = imp.fit(prePPDA)\n",
    "\n",
    "model = model.fit(imp.transform(prePPDA),imp.transform(prePPDA))\n",
    "model.named_steps['linear'].coef_"
   ]
  },
  {
   "cell_type": "code",
   "execution_count": null,
   "metadata": {},
   "outputs": [],
   "source": [
    "# Plot outputs\n",
    "plt.scatter(prePPDA['Fecha'], prePPDA['MP10'],  color='black')\n",
    "plt.title('Test Data')\n",
    "plt.xlabel('Fecha')\n",
    "plt.ylabel('ug/m^3')\n",
    "plt.xticks(())\n",
    "plt.yticks(())\n",
    "\n",
    "plt.show()"
   ]
  },
  {
   "cell_type": "code",
   "execution_count": null,
   "metadata": {},
   "outputs": [],
   "source": []
  }
 ],
 "metadata": {
  "kernelspec": {
   "display_name": "Python 3",
   "language": "python",
   "name": "python3"
  },
  "language_info": {
   "codemirror_mode": {
    "name": "ipython",
    "version": 3
   },
   "file_extension": ".py",
   "mimetype": "text/x-python",
   "name": "python",
   "nbconvert_exporter": "python",
   "pygments_lexer": "ipython3",
   "version": "3.7.4"
  }
 },
 "nbformat": 4,
 "nbformat_minor": 2
}
